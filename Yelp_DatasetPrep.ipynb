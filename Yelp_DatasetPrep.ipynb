{
  "cells": [
    {
      "cell_type": "markdown",
      "metadata": {
        "id": "view-in-github",
        "colab_type": "text"
      },
      "source": [
        "<a href=\"https://colab.research.google.com/github/kulharsh/TextClassification/blob/main/Yelp_DatasetPrep.ipynb\" target=\"_parent\"><img src=\"https://colab.research.google.com/assets/colab-badge.svg\" alt=\"Open In Colab\"/></a>"
      ]
    },
    {
      "cell_type": "code",
      "execution_count": null,
      "metadata": {
        "id": "Q63SEa-3cTCY"
      },
      "outputs": [],
      "source": [
        "#From github\n",
        "#https://github.com/Yelp/dataset-examples/blob/master/json_to_csv_converter.py"
      ]
    },
    {
      "cell_type": "code",
      "execution_count": null,
      "metadata": {
        "colab": {
          "base_uri": "https://localhost:8080/"
        },
        "id": "83i95RZIdyu-",
        "outputId": "6f836621-7623-4093-fccb-60db40ad061f"
      },
      "outputs": [
        {
          "name": "stdout",
          "output_type": "stream",
          "text": [
            "Requirement already satisfied: simplejson in /home/harshadpersonal/miniconda3/envs/ml/lib/python3.7/site-packages (3.17.6)\r\n"
          ]
        }
      ],
      "source": [
        "!pip install simplejson"
      ]
    },
    {
      "cell_type": "code",
      "execution_count": null,
      "metadata": {
        "id": "7CqzxlNfdcJV"
      },
      "outputs": [],
      "source": [
        "# -*- coding: utf-8 -*-\n",
        "\"\"\"Convert the Yelp Dataset Challenge dataset from json format to csv.\n",
        "For more information on the Yelp Dataset Challenge please visit http://yelp.com/dataset_challenge\n",
        "\"\"\"\n",
        "import argparse\n",
        "import collections\n",
        "import csv\n",
        "import simplejson as json\n",
        "\n",
        "\n",
        "def read_and_write_file(json_file_path, csv_file_path, column_names):\n",
        "    \"\"\"Read in the json dataset file and write it out to a csv file, given the column names.\"\"\"\n",
        "    with open(csv_file_path, 'w+') as fout:\n",
        "        csv_file = csv.writer(fout)\n",
        "        csv_file.writerow(list(column_names))\n",
        "        with open(json_file_path) as fin:\n",
        "            for line in fin:\n",
        "                line_contents = json.loads(line)\n",
        "                csv_file.writerow(get_row(line_contents, column_names))\n",
        "\n",
        "def get_superset_of_column_names_from_file(json_file_path):\n",
        "    \"\"\"Read in the json dataset file and return the superset of column names.\"\"\"\n",
        "    column_names = set()\n",
        "    with open(json_file_path) as fin:\n",
        "        for line in fin:\n",
        "            line_contents = json.loads(line)\n",
        "            column_names.update(\n",
        "                    set(get_column_names(line_contents).keys())\n",
        "                    )\n",
        "    return column_names\n",
        "\n",
        "def get_column_names(line_contents, parent_key=''):\n",
        "    \"\"\"Return a list of flattened key names given a dict.\n",
        "    Example:\n",
        "        line_contents = {\n",
        "            'a': {\n",
        "                'b': 2,\n",
        "                'c': 3,\n",
        "                },\n",
        "        }\n",
        "        will return: ['a.b', 'a.c']\n",
        "    These will be the column names for the eventual csv file.\n",
        "    \"\"\"\n",
        "    column_names = []\n",
        "    for k, v in line_contents.items():\n",
        "        column_name = \"{0}.{1}\".format(parent_key, k) if parent_key else k\n",
        "        if isinstance(v, collections.MutableMapping):\n",
        "            column_names.extend(\n",
        "                    get_column_names(v, column_name).items()\n",
        "                    )\n",
        "        else:\n",
        "            column_names.append((column_name, v))\n",
        "    return dict(column_names)\n",
        "\n",
        "def get_nested_value(d, key):\n",
        "    \"\"\"Return a dictionary item given a dictionary `d` and a flattened key from `get_column_names`.\n",
        "    \n",
        "    Example:\n",
        "        d = {\n",
        "            'a': {\n",
        "                'b': 2,\n",
        "                'c': 3,\n",
        "                },\n",
        "        }\n",
        "        key = 'a.b'\n",
        "        will return: 2\n",
        "    \n",
        "    \"\"\"\n",
        "    if '.' not in key:\n",
        "        if key not in d:\n",
        "            return None\n",
        "        return d[key]\n",
        "    base_key, sub_key = key.split('.', 1)\n",
        "    if base_key not in d:\n",
        "        return None\n",
        "    sub_dict = d[base_key]\n",
        "    return get_nested_value(sub_dict, sub_key)\n",
        "\n",
        "def get_row(line_contents, column_names):\n",
        "    \"\"\"Return a csv compatible row given column names and a dict.\"\"\"\n",
        "    row = []\n",
        "    for column_name in column_names:\n",
        "        line_value = get_nested_value(\n",
        "                        line_contents,\n",
        "                        column_name,\n",
        "                        )\n",
        "        if isinstance(line_value, str):\n",
        "            row.append('{0}'.format(line_value.encode('utf-8')))\n",
        "        elif line_value is not None:\n",
        "            row.append('{0}'.format(line_value))\n",
        "        else:\n",
        "            row.append('')\n",
        "    return row"
      ]
    },
    {
      "cell_type": "code",
      "execution_count": null,
      "metadata": {
        "id": "NspMWJlAdmdG"
      },
      "outputs": [],
      "source": [
        "json_file = \"./yelp_academic_dataset_review.json\"\n",
        "csv_file = \"reviews.csv\""
      ]
    },
    {
      "cell_type": "code",
      "execution_count": null,
      "metadata": {
        "id": "SA7gWFx7dkcs",
        "outputId": "042cf45e-0d61-4030-9e77-29c461c95048"
      },
      "outputs": [
        {
          "name": "stdout",
          "output_type": "stream",
          "text": [
            "{'user_id', 'useful', 'cool', 'date', 'stars', 'funny', 'review_id', 'business_id', 'text'}\n"
          ]
        }
      ],
      "source": [
        "column_names = get_superset_of_column_names_from_file(json_file)\n",
        "print(column_names)"
      ]
    },
    {
      "cell_type": "code",
      "execution_count": null,
      "metadata": {
        "id": "4PFlgi50mswU"
      },
      "outputs": [],
      "source": [
        "read_and_write_file(json_file, csv_file, column_names)"
      ]
    },
    {
      "cell_type": "code",
      "execution_count": null,
      "metadata": {
        "id": "BfSzF6cQmswV"
      },
      "outputs": [],
      "source": [
        ""
      ]
    }
  ],
  "metadata": {
    "colab": {
      "name": "Yelp-DatasetPrep.ipynb",
      "provenance": [],
      "include_colab_link": true
    },
    "kernelspec": {
      "display_name": "ml",
      "language": "python",
      "name": "ml"
    },
    "language_info": {
      "codemirror_mode": {
        "name": "ipython",
        "version": 3
      },
      "file_extension": ".py",
      "mimetype": "text/x-python",
      "name": "python",
      "nbconvert_exporter": "python",
      "pygments_lexer": "ipython3",
      "version": "3.7.6"
    }
  },
  "nbformat": 4,
  "nbformat_minor": 0
}