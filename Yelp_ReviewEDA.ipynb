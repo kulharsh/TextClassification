{
  "nbformat": 4,
  "nbformat_minor": 0,
  "metadata": {
    "colab": {
      "name": "Yelp-ReviewEDA",
      "provenance": [],
      "mount_file_id": "1VMH_1JIo_x4Nkv_09xeERniRD-40E5jI",
      "authorship_tag": "ABX9TyMJxIiNqLRTjoW42/SJK19X",
      "include_colab_link": true
    },
    "kernelspec": {
      "name": "python3",
      "display_name": "Python 3"
    },
    "language_info": {
      "name": "python"
    }
  },
  "cells": [
    {
      "cell_type": "markdown",
      "metadata": {
        "id": "view-in-github",
        "colab_type": "text"
      },
      "source": [
        "<a href=\"https://colab.research.google.com/github/kulharsh/TextClassification/blob/main/Yelp_ReviewEDA.ipynb\" target=\"_parent\"><img src=\"https://colab.research.google.com/assets/colab-badge.svg\" alt=\"Open In Colab\"/></a>"
      ]
    },
    {
      "cell_type": "code",
      "execution_count": 1,
      "metadata": {
        "id": "j9sNo7Fzoy40"
      },
      "outputs": [],
      "source": [
        "import pandas as pd"
      ]
    },
    {
      "cell_type": "code",
      "source": [
        "df = pd.read_csv(\"drive/MyDrive/Colab Notebooks/TextClassification/reviews_sampled.csv\", compression='gzip')"
      ],
      "metadata": {
        "id": "XdXqHAA3o3vn"
      },
      "execution_count": 4,
      "outputs": []
    },
    {
      "cell_type": "code",
      "source": [
        "df.head()"
      ],
      "metadata": {
        "colab": {
          "base_uri": "https://localhost:8080/",
          "height": 354
        },
        "id": "Ab_A7vR1rDHP",
        "outputId": "29cf51dd-4154-4928-e9a5-353186da9d73"
      },
      "execution_count": 5,
      "outputs": [
        {
          "output_type": "execute_result",
          "data": {
            "text/html": [
              "\n",
              "  <div id=\"df-e5769f00-f39b-4538-b94c-02f37802b368\">\n",
              "    <div class=\"colab-df-container\">\n",
              "      <div>\n",
              "<style scoped>\n",
              "    .dataframe tbody tr th:only-of-type {\n",
              "        vertical-align: middle;\n",
              "    }\n",
              "\n",
              "    .dataframe tbody tr th {\n",
              "        vertical-align: top;\n",
              "    }\n",
              "\n",
              "    .dataframe thead th {\n",
              "        text-align: right;\n",
              "    }\n",
              "</style>\n",
              "<table border=\"1\" class=\"dataframe\">\n",
              "  <thead>\n",
              "    <tr style=\"text-align: right;\">\n",
              "      <th></th>\n",
              "      <th>Unnamed: 0</th>\n",
              "      <th>user_id</th>\n",
              "      <th>useful</th>\n",
              "      <th>cool</th>\n",
              "      <th>date</th>\n",
              "      <th>stars</th>\n",
              "      <th>funny</th>\n",
              "      <th>review_id</th>\n",
              "      <th>business_id</th>\n",
              "      <th>text</th>\n",
              "    </tr>\n",
              "  </thead>\n",
              "  <tbody>\n",
              "    <tr>\n",
              "      <th>0</th>\n",
              "      <td>4267491</td>\n",
              "      <td>b'zppD5dfe83wMSTb0lpETzw'</td>\n",
              "      <td>1</td>\n",
              "      <td>0</td>\n",
              "      <td>b'2018-06-30 16:39:49'</td>\n",
              "      <td>1.0</td>\n",
              "      <td>0</td>\n",
              "      <td>b'fInLy5nFPFY4lUn_1nkE7g'</td>\n",
              "      <td>b'ku_hsgs-3udFwxPOH0pikA'</td>\n",
              "      <td>b'Ordered a simple burger and asked for no ket...</td>\n",
              "    </tr>\n",
              "    <tr>\n",
              "      <th>1</th>\n",
              "      <td>6538452</td>\n",
              "      <td>b'Tvk5HuAzmYDJPN9d6fBiiA'</td>\n",
              "      <td>3</td>\n",
              "      <td>1</td>\n",
              "      <td>b'2010-08-12 11:22:37'</td>\n",
              "      <td>5.0</td>\n",
              "      <td>0</td>\n",
              "      <td>b'7CdMH-NWjRf2nsny6AgrhA'</td>\n",
              "      <td>b'8BUt8TPUoT9ShBDDVdU6Uw'</td>\n",
              "      <td>b\"I don't know if we were nicer than her norma...</td>\n",
              "    </tr>\n",
              "    <tr>\n",
              "      <th>2</th>\n",
              "      <td>7788953</td>\n",
              "      <td>b'OzNBTiU8Uzb6TsYvxETTjQ'</td>\n",
              "      <td>0</td>\n",
              "      <td>0</td>\n",
              "      <td>b'2017-02-09 12:14:10'</td>\n",
              "      <td>5.0</td>\n",
              "      <td>0</td>\n",
              "      <td>b'q_WP0SdbmS0AUCODE9v_Sw'</td>\n",
              "      <td>b'kKn9cgdoFgbIE6jZvwQZFw'</td>\n",
              "      <td>b\"I liked this place. \\n\\nClean and tidy I enj...</td>\n",
              "    </tr>\n",
              "    <tr>\n",
              "      <th>3</th>\n",
              "      <td>7699683</td>\n",
              "      <td>b'w20LAQvvaZJuN75gF-MmgQ'</td>\n",
              "      <td>3</td>\n",
              "      <td>0</td>\n",
              "      <td>b'2018-06-09 01:41:24'</td>\n",
              "      <td>1.0</td>\n",
              "      <td>0</td>\n",
              "      <td>b'TZjTI5pBvT-cBpEtbPjDVg'</td>\n",
              "      <td>b'8XgmkJYIOoh7WrprTA8m6Q'</td>\n",
              "      <td>b\"After spending a day and a half in the hospi...</td>\n",
              "    </tr>\n",
              "    <tr>\n",
              "      <th>4</th>\n",
              "      <td>6282081</td>\n",
              "      <td>b'8_mvQHub0nurDxR-8jTTxg'</td>\n",
              "      <td>1</td>\n",
              "      <td>1</td>\n",
              "      <td>b'2011-11-13 15:26:33'</td>\n",
              "      <td>5.0</td>\n",
              "      <td>0</td>\n",
              "      <td>b'VsvjuuSNlzUehhRZUPn7yg'</td>\n",
              "      <td>b'7B6NZZYosDJnlGKYOVfSrA'</td>\n",
              "      <td>b'Coming out of college I had experience with ...</td>\n",
              "    </tr>\n",
              "  </tbody>\n",
              "</table>\n",
              "</div>\n",
              "      <button class=\"colab-df-convert\" onclick=\"convertToInteractive('df-e5769f00-f39b-4538-b94c-02f37802b368')\"\n",
              "              title=\"Convert this dataframe to an interactive table.\"\n",
              "              style=\"display:none;\">\n",
              "        \n",
              "  <svg xmlns=\"http://www.w3.org/2000/svg\" height=\"24px\"viewBox=\"0 0 24 24\"\n",
              "       width=\"24px\">\n",
              "    <path d=\"M0 0h24v24H0V0z\" fill=\"none\"/>\n",
              "    <path d=\"M18.56 5.44l.94 2.06.94-2.06 2.06-.94-2.06-.94-.94-2.06-.94 2.06-2.06.94zm-11 1L8.5 8.5l.94-2.06 2.06-.94-2.06-.94L8.5 2.5l-.94 2.06-2.06.94zm10 10l.94 2.06.94-2.06 2.06-.94-2.06-.94-.94-2.06-.94 2.06-2.06.94z\"/><path d=\"M17.41 7.96l-1.37-1.37c-.4-.4-.92-.59-1.43-.59-.52 0-1.04.2-1.43.59L10.3 9.45l-7.72 7.72c-.78.78-.78 2.05 0 2.83L4 21.41c.39.39.9.59 1.41.59.51 0 1.02-.2 1.41-.59l7.78-7.78 2.81-2.81c.8-.78.8-2.07 0-2.86zM5.41 20L4 18.59l7.72-7.72 1.47 1.35L5.41 20z\"/>\n",
              "  </svg>\n",
              "      </button>\n",
              "      \n",
              "  <style>\n",
              "    .colab-df-container {\n",
              "      display:flex;\n",
              "      flex-wrap:wrap;\n",
              "      gap: 12px;\n",
              "    }\n",
              "\n",
              "    .colab-df-convert {\n",
              "      background-color: #E8F0FE;\n",
              "      border: none;\n",
              "      border-radius: 50%;\n",
              "      cursor: pointer;\n",
              "      display: none;\n",
              "      fill: #1967D2;\n",
              "      height: 32px;\n",
              "      padding: 0 0 0 0;\n",
              "      width: 32px;\n",
              "    }\n",
              "\n",
              "    .colab-df-convert:hover {\n",
              "      background-color: #E2EBFA;\n",
              "      box-shadow: 0px 1px 2px rgba(60, 64, 67, 0.3), 0px 1px 3px 1px rgba(60, 64, 67, 0.15);\n",
              "      fill: #174EA6;\n",
              "    }\n",
              "\n",
              "    [theme=dark] .colab-df-convert {\n",
              "      background-color: #3B4455;\n",
              "      fill: #D2E3FC;\n",
              "    }\n",
              "\n",
              "    [theme=dark] .colab-df-convert:hover {\n",
              "      background-color: #434B5C;\n",
              "      box-shadow: 0px 1px 3px 1px rgba(0, 0, 0, 0.15);\n",
              "      filter: drop-shadow(0px 1px 2px rgba(0, 0, 0, 0.3));\n",
              "      fill: #FFFFFF;\n",
              "    }\n",
              "  </style>\n",
              "\n",
              "      <script>\n",
              "        const buttonEl =\n",
              "          document.querySelector('#df-e5769f00-f39b-4538-b94c-02f37802b368 button.colab-df-convert');\n",
              "        buttonEl.style.display =\n",
              "          google.colab.kernel.accessAllowed ? 'block' : 'none';\n",
              "\n",
              "        async function convertToInteractive(key) {\n",
              "          const element = document.querySelector('#df-e5769f00-f39b-4538-b94c-02f37802b368');\n",
              "          const dataTable =\n",
              "            await google.colab.kernel.invokeFunction('convertToInteractive',\n",
              "                                                     [key], {});\n",
              "          if (!dataTable) return;\n",
              "\n",
              "          const docLinkHtml = 'Like what you see? Visit the ' +\n",
              "            '<a target=\"_blank\" href=https://colab.research.google.com/notebooks/data_table.ipynb>data table notebook</a>'\n",
              "            + ' to learn more about interactive tables.';\n",
              "          element.innerHTML = '';\n",
              "          dataTable['output_type'] = 'display_data';\n",
              "          await google.colab.output.renderOutput(dataTable, element);\n",
              "          const docLink = document.createElement('div');\n",
              "          docLink.innerHTML = docLinkHtml;\n",
              "          element.appendChild(docLink);\n",
              "        }\n",
              "      </script>\n",
              "    </div>\n",
              "  </div>\n",
              "  "
            ],
            "text/plain": [
              "   Unnamed: 0  ...                                               text\n",
              "0     4267491  ...  b'Ordered a simple burger and asked for no ket...\n",
              "1     6538452  ...  b\"I don't know if we were nicer than her norma...\n",
              "2     7788953  ...  b\"I liked this place. \\n\\nClean and tidy I enj...\n",
              "3     7699683  ...  b\"After spending a day and a half in the hospi...\n",
              "4     6282081  ...  b'Coming out of college I had experience with ...\n",
              "\n",
              "[5 rows x 10 columns]"
            ]
          },
          "metadata": {},
          "execution_count": 5
        }
      ]
    },
    {
      "cell_type": "code",
      "source": [
        "df['stars'].value_counts()"
      ],
      "metadata": {
        "colab": {
          "base_uri": "https://localhost:8080/"
        },
        "id": "ICScSC2QrRPT",
        "outputId": "78ba8b7d-77a5-4a1b-c013-834860147889"
      },
      "execution_count": 7,
      "outputs": [
        {
          "output_type": "execute_result",
          "data": {
            "text/plain": [
              "5.0    882745\n",
              "4.0    445170\n",
              "1.0    292852\n",
              "3.0    214606\n",
              "2.0    164627\n",
              "Name: stars, dtype: int64"
            ]
          },
          "metadata": {},
          "execution_count": 7
        }
      ]
    },
    {
      "cell_type": "code",
      "source": [
        ""
      ],
      "metadata": {
        "id": "hSdNfAKDrctA"
      },
      "execution_count": null,
      "outputs": []
    }
  ]
}